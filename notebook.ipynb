{
 "cells": [
  {
   "cell_type": "markdown",
   "id": "a4fe64b9",
   "metadata": {},
   "source": [
    "# Stock exchange prediction"
   ]
  },
  {
   "cell_type": "markdown",
   "id": "c5a7fd49",
   "metadata": {},
   "source": [
    "## Data preparation\n",
    "\n",
    "This code will unzip the data archive into data folder"
   ]
  },
  {
   "cell_type": "code",
   "execution_count": null,
   "id": "5d214a46",
   "metadata": {},
   "outputs": [],
   "source": [
    "import shutil\n",
    "import zipfile\n",
    "import os\n",
    "\n",
    "dirs_to_remove = ['data/Data', 'data/ETFs', 'data/Stocks']\n",
    "for d in dirs_to_remove:\n",
    "    if os.path.exists(d):\n",
    "        shutil.rmtree(d)\n",
    "\n",
    "with zipfile.ZipFile('data/data.zip', 'r') as zip_ref:\n",
    "    zip_ref.extractall('data')"
   ]
  }
 ],
 "metadata": {
  "kernelspec": {
   "display_name": ".venv",
   "language": "python",
   "name": "python3"
  },
  "language_info": {
   "codemirror_mode": {
    "name": "ipython",
    "version": 3
   },
   "file_extension": ".py",
   "mimetype": "text/x-python",
   "name": "python",
   "nbconvert_exporter": "python",
   "pygments_lexer": "ipython3",
   "version": "3.12.11"
  }
 },
 "nbformat": 4,
 "nbformat_minor": 5
}
