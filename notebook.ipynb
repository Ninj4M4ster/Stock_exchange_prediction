{
 "cells": [
  {
   "cell_type": "markdown",
   "id": "a4fe64b9",
   "metadata": {},
   "source": [
    "# Stock exchange prediction"
   ]
  }
 ],
 "metadata": {
  "language_info": {
   "name": "python"
  }
 },
 "nbformat": 4,
 "nbformat_minor": 5
}
