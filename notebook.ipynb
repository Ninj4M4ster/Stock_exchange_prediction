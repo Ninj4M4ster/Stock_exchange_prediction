{
 "cells": [
  {
   "cell_type": "markdown",
   "id": "a4fe64b9",
   "metadata": {},
   "source": [
    "# Stock exchange prediction"
   ]
  },
  {
   "cell_type": "markdown",
   "id": "c5a7fd49",
   "metadata": {},
   "source": [
    "## Data preparation\n",
    "\n",
    "This code will unzip the data archive into data folder"
   ]
  },
  {
   "cell_type": "code",
   "execution_count": null,
   "id": "5d214a46",
   "metadata": {},
   "outputs": [],
   "source": [
    "import shutil\n",
    "import zipfile\n",
    "import os\n",
    "\n",
    "dirs_to_remove = ['data/ETFs', 'data/Stocks']\n",
    "for d in dirs_to_remove:\n",
    "    if os.path.exists(d):\n",
    "        shutil.rmtree(d)\n",
    "\n",
    "with zipfile.ZipFile('data/data.zip', 'r') as zip_ref:\n",
    "    zip_ref.extractall('data')"
   ]
  },
  {
   "cell_type": "markdown",
   "id": "5cde8b43",
   "metadata": {},
   "source": [
    "## Loading data"
   ]
  },
  {
   "cell_type": "code",
   "execution_count": null,
   "id": "804d2f0f",
   "metadata": {},
   "outputs": [],
   "source": [
    "from torch.utils.data import DataLoader, Dataset\n",
    "import pandas as pd\n",
    "import glob\n",
    "import torch\n",
    "\n",
    "class StockDataset(Dataset):\n",
    "    def __init__(self, folder):\n",
    "        self.files = glob.glob(os.path.join(folder, '*.txt'))\n",
    "        self.data = []\n",
    "        for file in self.files:\n",
    "            try:\n",
    "                df = pd.read_csv(file, sep=',')\n",
    "            except Exception:\n",
    "                continue\n",
    "            if 'Close' not in df.columns or 'Date' not in df.columns:\n",
    "                continue\n",
    "            df = df.sort_values('Date')\n",
    "            self.data.append(df)\n",
    "        self.lengths = [len(df) for df in self.data]\n",
    "        self.cumulative_lengths = [sum(self.lengths[:i+1]) for i in range(len(self.lengths))]\n",
    "\n",
    "    def __len__(self):\n",
    "        return sum(self.lengths)\n",
    "\n",
    "    def __getitem__(self, idx):\n",
    "        for i, cum_len in enumerate(self.cumulative_lengths):\n",
    "            if idx < cum_len:\n",
    "                df = self.data[i]\n",
    "                row_idx = idx if i == 0 else idx - self.cumulative_lengths[i-1]\n",
    "                row = df.iloc[row_idx]\n",
    "                # TODO(Jakub Drzewiecki): Unsure if we want to drop Date column\n",
    "                features = row.drop(['Date', 'Close'])\n",
    "                features = pd.to_numeric(features, errors='coerce').astype('float32')\n",
    "                features_tensor = torch.tensor(features.values, dtype=torch.float32)\n",
    "                target = row['Close']\n",
    "                target_tensor = torch.tensor(target, dtype=torch.float32)\n",
    "                return features_tensor, target_tensor\n",
    "        raise IndexError(\"Index out of range\")\n",
    "\n",
    "def split_dataset(dataset, train_ratio=0.8):\n",
    "    total_len = len(dataset)\n",
    "    train_len = int(total_len * train_ratio)\n",
    "    indices = list(range(total_len))\n",
    "    train_indices = indices[:train_len]\n",
    "    test_indices = indices[train_len:]\n",
    "    return torch.utils.data.Subset(dataset, train_indices), torch.utils.data.Subset(dataset, test_indices)\n",
    "\n",
    "etf_dataset = StockDataset('data/ETFs')\n",
    "stock_dataset = StockDataset('data/Stocks')\n",
    "\n",
    "etf_train, etf_test = split_dataset(etf_dataset)\n",
    "stock_train, stock_test = split_dataset(stock_dataset)\n",
    "\n",
    "etf_loader = DataLoader(etf_train, batch_size=32, shuffle=True)\n",
    "etf_test_loader = DataLoader(etf_test, batch_size=32, shuffle=False)\n",
    "stock_loader = DataLoader(stock_train, batch_size=32, shuffle=True)\n",
    "stock_test_loader = DataLoader(stock_test, batch_size=32, shuffle=False)"
   ]
  }
 ],
 "metadata": {
  "kernelspec": {
   "display_name": ".venv",
   "language": "python",
   "name": "python3"
  },
  "language_info": {
   "codemirror_mode": {
    "name": "ipython",
    "version": 3
   },
   "file_extension": ".py",
   "mimetype": "text/x-python",
   "name": "python",
   "nbconvert_exporter": "python",
   "pygments_lexer": "ipython3",
   "version": "3.12.11"
  }
 },
 "nbformat": 4,
 "nbformat_minor": 5
}
